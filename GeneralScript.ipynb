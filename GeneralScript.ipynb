{
 "cells": [
  {
   "cell_type": "code",
   "execution_count": 1,
   "metadata": {},
   "outputs": [],
   "source": [
    "# Dimensions\n",
    "# lane -> Lane\n",
    "# equipment_type -> Equipment Type\n",
    "# carrier_name -> Carrier\n",
    "# shipper_name -> Shipper\n",
    "\n",
    "# Fact\n",
    "# loadsmart_id -> Freigth"
   ]
  },
  {
   "cell_type": "code",
   "execution_count": 2,
   "metadata": {},
   "outputs": [],
   "source": [
    "import pandas as pd"
   ]
  },
  {
   "cell_type": "code",
   "execution_count": 3,
   "metadata": {},
   "outputs": [],
   "source": [
    "file_path = ''\n",
    "file_name = '2017 Data- Challenge BI'\n",
    "file_sheet = '2017 Data'\n",
    "\n",
    "file_dim_lane = 'dim_lane'\n",
    "file_dim_equipment_type = 'dim_equipment_type'\n",
    "file_dim_carrier = 'dim_carrier'\n",
    "file_dim_shipper = 'dim_shipper'\n",
    "file_fact_loadsmart = 'fact_loadsmart'"
   ]
  },
  {
   "cell_type": "code",
   "execution_count": 4,
   "metadata": {},
   "outputs": [],
   "source": [
    "def add_default_values(df_dim, column_name):\n",
    "    return df_dim.append({'id': '-1', column_name:'Not Informed'}, ignore_index=True)\n",
    "\n",
    "def get_fk(df_fact_table, df_dim, fk_name, column_drop):\n",
    "    df_fact_table = df_fact_table.merge(df_dim, how='left')\n",
    "    df_fact_table.rename({'id': fk_name}, axis='columns', inplace=True)\n",
    "    df_fact_table.drop(columns=column_drop, inplace=True)\n",
    "    \n",
    "    return df_fact_table\n",
    "\n",
    "def retrieve_dim_fk(df_fact):\n",
    "    df_fact = get_fk(df_fact, df_dim_lane, 'lane_id', 'lane')\n",
    "    df_fact = get_fk(df_fact, df_dim_equipment_type, 'equipment_type_id', 'equipment_type')\n",
    "    df_fact = get_fk(df_fact, df_dim_carrier, 'carrier_id', 'carrier_name')\n",
    "    df_fact = get_fk(df_fact, df_dim_shipper, 'shipper_id', 'shipper_name')\n",
    "    \n",
    "    df_fact.fillna(-1, inplace=True)\n",
    "    \n",
    "    return df_fact\n",
    " \n",
    "\n",
    "def dim_type1_first_run(df_new):\n",
    "    df_original = df_new.copy()\n",
    "    df_original['id'] = df_original.index\n",
    "\n",
    "    \n",
    "    return df_original\n",
    "\n",
    "\n",
    "def dim_type1_normal_run(df_original, df_new):\n",
    "    df_original = df_original.append(df_new[~df_new.lane.isin(df_original.lane)], ignore_index = True)\n",
    "    df_original['id'] = df_original.index\n",
    "    \n",
    "    return df_original\n",
    "\n",
    "def fact_first_run(df_new):\n",
    "    \n",
    "    df_original = df_new.copy()\n",
    "    df_original['loadsmart_key'] = (df_original.loadsmart_id.astype('str') + df_original.shipper_name.astype('str') + df_original.carrier_name.astype('str')).str.upper()    \n",
    "    df_original = retrieve_dim_fk(df_original)\n",
    "    \n",
    "    return df_original\n",
    "\n",
    "def fact_normal_run(df_original, df_new):\n",
    "    df_new['loadsmart_key'] = (df_new.loadsmart_id.astype('str') + df_new.shipper_name.astype('str') + df_new.carrier_name.astype('str')).str.upper()\n",
    "    df_to_append = df_new[~df_new.loadsmart_key.isin(df_original.loadsmart_key)], ignore_index = True    \n",
    "    retrieve_dim_fk(df_to_append)\n",
    "    \n",
    "#   Append new records\n",
    "    df_original = df_original.append(df_to_append)    \n",
    "    \n",
    "    \n",
    "    return df_original"
   ]
  },
  {
   "cell_type": "code",
   "execution_count": 5,
   "metadata": {},
   "outputs": [],
   "source": [
    "df_raw = pd.read_excel (file_path + file_name + '.xlsx', sheet_name= file_sheet)\n",
    "df_raw.fillna(-1, inplace=True)\n",
    "\n",
    "# Unique values\n",
    "df_lane_new = pd.DataFrame({'lane':df_raw.lane.str.strip().unique()})\n",
    "df_equipment_type_new = pd.DataFrame({'equipment_type':df_raw.equipment_type.str.strip().unique()})\n",
    "df_carrier_new = pd.DataFrame({'carrier_name':df_raw.carrier_name.str.strip().unique()})\n",
    "df_shipper_new = pd.DataFrame({'shipper_name':df_raw.shipper_name.str.strip().unique()})"
   ]
  },
  {
   "cell_type": "code",
   "execution_count": 6,
   "metadata": {},
   "outputs": [],
   "source": [
    "# Dim Lane\n",
    "try:\n",
    "    df_dim_lane = pd.read_csv(file_path + file_dim_lane + '.csv', sep='|')\n",
    "    df_dim_lane = dim_type1_normal_run(df_dim_lane, df_lane_new)\n",
    "    df_dim_lane['pickup'] = df_dim_lane.lane.str.split('->').str[0].str.strip()\n",
    "    df_dim_lane['delivery'] = df_dim_lane.lane.str.split('->').str[1].str.strip()\n",
    "except:\n",
    "    df_dim_lane = dim_type1_first_run(df_lane_new)\n",
    "    df_dim_lane = add_default_values(df_dim_lane, 'lane')\n",
    "    df_dim_lane['pickup'] = df_dim_lane.lane.str.split('->').str[0].str.strip()\n",
    "    df_dim_lane['delivery'] = df_dim_lane.lane.str.split('->').str[1].str.strip()\n",
    "\n",
    "\n",
    "# Dim Equipment Type\n",
    "try:\n",
    "    df_dim_equipment_type = pd.read_csv(file_path + file_dim_equipment_type + '.csv', sep='|')\n",
    "    df_dim_equipment_type = dim_type1_normal_run(df_dim_equipment_type, df_equipment_type_new)\n",
    "except:\n",
    "    df_dim_equipment_type = dim_type1_first_run(df_equipment_type_new)\n",
    "    df_dim_equipment_type = add_default_values(df_dim_equipment_type, 'equipment_type')\n",
    "    \n",
    "    \n",
    "# Dim Carrier\n",
    "try:\n",
    "    df_dim_carrier = pd.read_csv(file_path + file_dim_carrier + '.csv', sep='|')\n",
    "    df_dim_carrier = dim_type1_normal_run(df_dim_carrier, df_carrier_new)\n",
    "except:\n",
    "    df_dim_carrier = dim_type1_first_run(df_carrier_new)\n",
    "    df_dim_carrier = add_default_values(df_dim_carrier, 'carrier_name')\n",
    "    \n",
    "    \n",
    "# Dim Shipper\n",
    "try:\n",
    "    df_dim_shipper = pd.read_csv(file_path + file_dim_shipper + '.csv', sep='|')\n",
    "    df_dim_shipper = dim_type1_normal_run(df_dim_shipper, df_shipper_new)\n",
    "except:\n",
    "    df_dim_shipper = dim_type1_first_run(df_shipper_new)\n",
    "    df_dim_shipper = add_default_values(df_dim_shipper, 'shipper_name')\n",
    "    \n",
    "    \n",
    "# Fact Loadsmart\n",
    "try:\n",
    "    df_fact_loadsmart = pd.read_csv(file_path + file_fact_loadsmart + '.csv', sep='|')\n",
    "    df_fact_loadsmart = fact_normal_run(df_fact_loadsmart, df_raw)\n",
    "except:\n",
    "    df_fact_loadsmart = fact_first_run(df_raw)"
   ]
  },
  {
   "cell_type": "code",
   "execution_count": 7,
   "metadata": {},
   "outputs": [],
   "source": [
    "df_dim_lane.to_csv(file_dim_lane + '.csv', sep='|', index=False)\n",
    "df_dim_equipment_type.to_csv(file_dim_equipment_type + '.csv', sep='|', index=False)\n",
    "df_dim_carrier.to_csv(file_dim_carrier + '.csv', sep='|', index=False)\n",
    "df_dim_shipper.to_csv(file_dim_shipper + '.csv', sep='|', index=False)\n",
    "df_fact_loadsmart.to_csv(file_fact_loadsmart + '.csv', sep='|', index=False)"
   ]
  },
  {
   "cell_type": "code",
   "execution_count": 8,
   "metadata": {},
   "outputs": [],
   "source": [
    "# Assumptions:\n",
    "# 1. No SCD Type 2 was created as the data did not have enough informartion for that\n",
    "# 2. For the Fact table, no changes would be applied in a record once the data is loaded into BI (no reprocessing of old records)\n",
    "# 3. Incremental load was considered for the Fact table\n",
    "# 4. Carrier Rating and Vip Carrier could be loaded into Dim Carrier. For this exercise i kept in the fact as it could change along the time, but this would be a good candidadte for SCD Type 2\n",
    "# 5. I noticed that has_mobile_app_tracking was duplicated, but I decided not to drop one of them as it would need further investigation\n"
   ]
  },
  {
   "cell_type": "code",
   "execution_count": null,
   "metadata": {},
   "outputs": [],
   "source": []
  }
 ],
 "metadata": {
  "kernelspec": {
   "display_name": "Python 3",
   "language": "python",
   "name": "python3"
  },
  "language_info": {
   "codemirror_mode": {
    "name": "ipython",
    "version": 3
   },
   "file_extension": ".py",
   "mimetype": "text/x-python",
   "name": "python",
   "nbconvert_exporter": "python",
   "pygments_lexer": "ipython3",
   "version": "3.7.6"
  }
 },
 "nbformat": 4,
 "nbformat_minor": 4
}
